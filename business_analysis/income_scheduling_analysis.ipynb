{
 "cells": [
  {
   "attachments": {},
   "cell_type": "markdown",
   "metadata": {},
   "source": [
    "## Income/Trend Analysis\n",
    "\n",
    "1. The goal of this notebook is to find a way to connect and integrate my google calendar data that I have used to scheudle clients over the past couple years and perform an exploratory analysis to see what trends occur in scheduling and income.\n",
    "2. The goal with that data will be to build a forecasting model to predict how income will change across different times of the year"
   ]
  },
  {
   "attachments": {},
   "cell_type": "markdown",
   "metadata": {},
   "source": []
  }
 ],
 "metadata": {
  "language_info": {
   "name": "python"
  },
  "orig_nbformat": 4
 },
 "nbformat": 4,
 "nbformat_minor": 2
}
